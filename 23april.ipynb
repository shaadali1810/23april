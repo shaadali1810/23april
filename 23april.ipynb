{
 "cells": [
  {
   "cell_type": "code",
   "execution_count": 1,
   "id": "fe0180ae-452b-4164-852a-8a706c5978e5",
   "metadata": {},
   "outputs": [],
   "source": [
    "#1The curse of dimensionality basically refers to the difficulties a machine learning algorithm faces when working with data in the higher dimensions, that did not exist in the lower dimensions. This happens because when you add dimensions (features), the minimum data requirements also increase rapidly."
   ]
  },
  {
   "cell_type": "code",
   "execution_count": 2,
   "id": "0ded718d-0247-4611-811b-db4c80901ade",
   "metadata": {},
   "outputs": [],
   "source": [
    "#2As the number of dimensions or features increases, the amount of data needed to generalize the machine learning model accurately increases exponentially. The increase in dimensions makes the data sparse, and it increases the difficulty of generalizing the model"
   ]
  },
  {
   "cell_type": "code",
   "execution_count": 3,
   "id": "f5300928-19a1-4637-ab46-31072d079c9f",
   "metadata": {},
   "outputs": [],
   "source": [
    "#3In summary, the Curse of Dimensionality in Machine Learning highlights challenges when dealing with high-dimensional data. It affects diverse domains, increasing computational demands and reducing model performance. Overcoming it involves feature selection, dimensionality reduction, and careful algorithm choices."
   ]
  },
  {
   "cell_type": "code",
   "execution_count": 4,
   "id": "9fdc2d30-a3f3-4ced-98b7-916994202b86",
   "metadata": {},
   "outputs": [],
   "source": [
    "#4Feature selection is simply selecting and excluding given features WITHOUT changing them. Whereas Dimensionally Reduction transforms the features into a lower dimension."
   ]
  },
  {
   "cell_type": "code",
   "execution_count": 6,
   "id": "75da1b5e-b555-48a8-968a-9fe2a9dcf0a9",
   "metadata": {},
   "outputs": [],
   "source": [
    "#5 We lost some data during the dimensionality reduction process, which can impact how well future training algorithms work.\n",
    "#It may need a lot of processing power.\n",
    "#Interpreting transformed characteristics might be challenging."
   ]
  },
  {
   "cell_type": "code",
   "execution_count": 7,
   "id": "cb1791b1-e99b-4c19-9c39-12f86abd35a9",
   "metadata": {},
   "outputs": [],
   "source": [
    "#6KNN is very susceptible to overfitting due to the curse of dimensionality. Curse of dimensionality also describes the phenomenon where the feature space becomes increasingly sparse for an increasing number of dimensions of a fixed-size training dataset."
   ]
  },
  {
   "cell_type": "code",
   "execution_count": 8,
   "id": "f0cd6087-d081-4d61-9b75-05393e5f1f5d",
   "metadata": {},
   "outputs": [
    {
     "data": {
      "text/plain": [
       "'Principal Component Analysis.\\nBackward Elimination.\\nForward Selection.\\nScore comparison.\\nMissing Value Ratio.\\nLow Variance Filter.\\nHigh Correlation Filter.\\nRandom Forest.'"
      ]
     },
     "execution_count": 8,
     "metadata": {},
     "output_type": "execute_result"
    }
   ],
   "source": [
    "#7\n",
    "'''Principal Component Analysis.\n",
    "Backward Elimination.\n",
    "Forward Selection.\n",
    "Score comparison.\n",
    "Missing Value Ratio.\n",
    "Low Variance Filter.\n",
    "High Correlation Filter.\n",
    "Random Forest.'''"
   ]
  },
  {
   "cell_type": "code",
   "execution_count": null,
   "id": "f9c1d2c5-ef71-4c84-a859-bac5c300c0a3",
   "metadata": {},
   "outputs": [],
   "source": []
  }
 ],
 "metadata": {
  "kernelspec": {
   "display_name": "Python 3 (ipykernel)",
   "language": "python",
   "name": "python3"
  },
  "language_info": {
   "codemirror_mode": {
    "name": "ipython",
    "version": 3
   },
   "file_extension": ".py",
   "mimetype": "text/x-python",
   "name": "python",
   "nbconvert_exporter": "python",
   "pygments_lexer": "ipython3",
   "version": "3.10.8"
  }
 },
 "nbformat": 4,
 "nbformat_minor": 5
}
